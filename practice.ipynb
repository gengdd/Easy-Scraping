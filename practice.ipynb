{
 "cells": [
  {
   "cell_type": "code",
   "execution_count": 1,
   "metadata": {},
   "outputs": [],
   "source": [
    "from bs4 import BeautifulSoup\n",
    "from urllib.request import  urlopen\n",
    "import re\n",
    "import random"
   ]
  },
  {
   "cell_type": "code",
   "execution_count": 2,
   "metadata": {},
   "outputs": [],
   "source": [
    "base_url='https://baike.baidu.com'\n",
    "his=['/item/%E7%BD%91%E7%BB%9C%E7%88%AC%E8%99%AB/5162711']"
   ]
  },
  {
   "cell_type": "code",
   "execution_count": 7,
   "metadata": {
    "scrolled": false
   },
   "outputs": [],
   "source": [
    "url=base_url+his[-1]\n",
    "\n",
    "html=urlopen(url).read().decode('utf-8')\n",
    "soup=BeautifulSoup(html,features='lxml')\n",
    "# print(soup.find('h1').get_text(),' url:',his[-1])"
   ]
  },
  {
   "cell_type": "code",
   "execution_count": 8,
   "metadata": {},
   "outputs": [
    {
     "name": "stdout",
     "output_type": "stream",
     "text": [
      "['/item/%E7%BD%91%E7%BB%9C%E7%88%AC%E8%99%AB/5162711', '/item/%E5%B9%BF%E5%BA%A6%E4%BC%98%E5%85%88%E6%90%9C%E7%B4%A2']\n"
     ]
    }
   ],
   "source": [
    "sub_urls=soup.find_all(\"a\",{\"target\":\"_blank\",\"href\": re.compile(\"/item/(%.{2})+$\")})\n",
    "\n",
    "if len(sub_urls)!=0:\n",
    "    his.append(random.sample(sub_urls,1)[0]['href'])\n",
    "else:\n",
    "    his.pop()\n",
    "print(his)"
   ]
  },
  {
   "cell_type": "code",
   "execution_count": 10,
   "metadata": {},
   "outputs": [
    {
     "name": "stdout",
     "output_type": "stream",
     "text": [
      "0 网络爬虫  url: /item/%E7%BD%91%E7%BB%9C%E7%88%AC%E8%99%AB/5162711\n",
      "1 搜索引擎  url: /item/%E6%90%9C%E7%B4%A2%E5%BC%95%E6%93%8E\n",
      "2 搜索营销  url: /item/%E6%90%9C%E7%B4%A2%E8%90%A5%E9%94%80\n",
      "3 竞价排名  url: /item/%E7%AB%9E%E4%BB%B7%E6%8E%92%E5%90%8D\n",
      "4 网络推广  url: /item/%E7%BD%91%E7%BB%9C%E6%8E%A8%E5%B9%BF\n",
      "5 搜索引擎优化  url: /item/%E6%90%9C%E7%B4%A2%E5%BC%95%E6%93%8E%E4%BC%98%E5%8C%96\n",
      "6 分类信息  url: /item/%E5%88%86%E7%B1%BB%E4%BF%A1%E6%81%AF\n",
      "7 刊登  url: /item/%E5%88%8A%E7%99%BB\n",
      "8 分类信息  url: /item/%E5%88%86%E7%B1%BB%E4%BF%A1%E6%81%AF\n",
      "9 得易搜  url: /item/%E5%BE%97%E6%98%93%E6%90%9C\n",
      "10 同步  url: /item/%E5%90%8C%E6%AD%A5\n",
      "11 音频信号  url: /item/%E9%9F%B3%E9%A2%91%E4%BF%A1%E5%8F%B7\n",
      "12 曲线  url: /item/%E6%9B%B2%E7%BA%BF\n",
      "13 三原色  url: /item/%E4%B8%89%E5%8E%9F%E8%89%B2\n",
      "14 条件色  url: /item/%E6%9D%A1%E4%BB%B6%E8%89%B2\n",
      "15 三原色  url: /item/%E4%B8%89%E5%8E%9F%E8%89%B2\n",
      "16 彩度  url: /item/%E5%BD%A9%E5%BA%A6\n",
      "17 色相  url: /item/%E8%89%B2%E7%9B%B8\n",
      "18 黄橙  url: /item/%E9%BB%84%E6%A9%99\n",
      "19 福州大学  url: /item/%E7%A6%8F%E5%B7%9E%E5%A4%A7%E5%AD%A6\n"
     ]
    }
   ],
   "source": [
    "his=['/item/%E7%BD%91%E7%BB%9C%E7%88%AC%E8%99%AB/5162711']\n",
    "\n",
    "for i in range(20):\n",
    "    url=base_url+his[-1]\n",
    "    \n",
    "    html=urlopen(url).read().decode('utf-8')\n",
    "    soup=BeautifulSoup(html,features='lxml')\n",
    "    print(i,soup.find('h1').get_text(),' url:',his[-1])\n",
    "    \n",
    "    sub_urls=soup.find_all('a',{'target':'_blank','href': re.compile('/item/(%.{2})+$')})\n",
    "    \n",
    "    if len(sub_urls)!=0:\n",
    "        his.append(random.sample(sub_urls,1)[0]['href'])\n",
    "    else:\n",
    "        his.pop()"
   ]
  },
  {
   "cell_type": "code",
   "execution_count": null,
   "metadata": {},
   "outputs": [],
   "source": []
  },
  {
   "cell_type": "code",
   "execution_count": null,
   "metadata": {},
   "outputs": [],
   "source": []
  }
 ],
 "metadata": {
  "kernelspec": {
   "display_name": "Python 3",
   "language": "python",
   "name": "python3"
  },
  "language_info": {
   "codemirror_mode": {
    "name": "ipython",
    "version": 3
   },
   "file_extension": ".py",
   "mimetype": "text/x-python",
   "name": "python",
   "nbconvert_exporter": "python",
   "pygments_lexer": "ipython3",
   "version": "3.6.5"
  }
 },
 "nbformat": 4,
 "nbformat_minor": 2
}
