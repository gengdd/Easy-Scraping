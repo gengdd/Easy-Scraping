{
 "cells": [
  {
   "cell_type": "code",
   "execution_count": 1,
   "metadata": {},
   "outputs": [],
   "source": [
    "import scrapy"
   ]
  },
  {
   "cell_type": "code",
   "execution_count": 2,
   "metadata": {},
   "outputs": [],
   "source": [
    "import scrapy\n",
    "class MofanSpider(scrapy.Spider):\n",
    "    name='mofan'\n",
    "    start_url=['https://morvanzhou.github.io/']\n",
    "    \n",
    "    def parse(self,response):\n",
    "        yield {\n",
    "            'title': response.css('h1::text').extract_first(default='Missing').strip().replace('\"','\"'),\n",
    "            'url': response.url\n",
    "        }\n",
    "        \n",
    "        urls=response.css('a::attr(href)').re(r'^/.+?/$')\n",
    "        for url in urls:\n",
    "            yield response.follow(url,callback=self.parse)"
   ]
  },
  {
   "cell_type": "code",
   "execution_count": 5,
   "metadata": {},
   "outputs": [
    {
     "name": "stdout",
     "output_type": "stream",
     "text": [
      "Microsoft Windows [版本 10.0.17134.407]\r\n",
      "(c) 2018 Microsoft Corporation。保留所有权利。\r\n",
      "\r\n",
      "C:\\Users\\GDD\\Desktop\\easy scarping>scrapy runspider easy scrapy.py -o res.json -s FEED_EXPORT_ENCODING=utf-8\n",
      "Usage\r\n",
      "=====\r\n",
      "  scrapy runspider [options] <spider_file>\r\n",
      "\r\n",
      "Run the spider defined in the given file\r\n",
      "\r\n",
      "Options\r\n",
      "=======\r\n",
      "--help, -h              show this help message and exit\r\n",
      "-a NAME=VALUE           set spider argument (may be repeated)\r\n",
      "--output=FILE, -o FILE  dump scraped items into FILE (use - for stdout)\r\n",
      "--output-format=FORMAT, -t FORMAT\r\n",
      "                        format to use for dumping items with -o\r\n",
      "\r\n",
      "Global Options\r\n",
      "--------------\r\n",
      "--logfile=FILE          log file. if omitted stderr will be used\r\n",
      "--loglevel=LEVEL, -L LEVEL\r\n",
      "                        log level (default: DEBUG)\r\n",
      "--nolog                 disable logging completely\r\n",
      "--profile=FILE          write python cProfile stats to FILE\r\n",
      "--pidfile=FILE          write process ID to FILE\r\n",
      "--set=NAME=VALUE, -s NAME=VALUE\r\n",
      "                        set/override setting (may be repeated)\r\n",
      "--pdb                   enable pdb on failure\r\n",
      "\r\n",
      "C:\\Users\\GDD\\Desktop\\easy scarping>"
     ]
    },
    {
     "name": "stderr",
     "output_type": "stream",
     "text": [
      "2018-11-30 19:02:36 [scrapy.utils.log] INFO: Scrapy 1.5.1 started (bot: scrapybot)\r\n",
      "2018-11-30 19:02:36 [scrapy.utils.log] INFO: Versions: lxml 4.2.1.0, libxml2 2.9.8, cssselect 1.0.3, parsel 1.5.1, w3lib 1.19.0, Twisted 18.9.0, Python 3.6.5 |Anaconda, Inc.| (default, Mar 29 2018, 13:32:41) [MSC v.1900 64 bit (AMD64)], pyOpenSSL 18.0.0 (OpenSSL 1.0.2o  27 Mar 2018), cryptography 2.2.2, Platform Windows-10-10.0.17134-SP0\r\n"
     ]
    }
   ],
   "source": [
    "%%cmd\n",
    "scrapy runspider easy scrapy.py -o res.json -s FEED_EXPORT_ENCODING=utf-8"
   ]
  },
  {
   "cell_type": "code",
   "execution_count": null,
   "metadata": {},
   "outputs": [],
   "source": []
  }
 ],
 "metadata": {
  "kernelspec": {
   "display_name": "Python 3",
   "language": "python",
   "name": "python3"
  },
  "language_info": {
   "codemirror_mode": {
    "name": "ipython",
    "version": 3
   },
   "file_extension": ".py",
   "mimetype": "text/x-python",
   "name": "python",
   "nbconvert_exporter": "python",
   "pygments_lexer": "ipython3",
   "version": "3.6.5"
  }
 },
 "nbformat": 4,
 "nbformat_minor": 2
}
