{
 "cells": [
  {
   "cell_type": "code",
   "execution_count": 1,
   "metadata": {},
   "outputs": [],
   "source": [
    "from bs4 import BeautifulSoup\n",
    "import requests\n",
    "\n",
    "URL='http://www.nipic.com/'"
   ]
  },
  {
   "cell_type": "code",
   "execution_count": 4,
   "metadata": {},
   "outputs": [
    {
     "name": "stdout",
     "output_type": "stream",
     "text": [
      "[<a class=\"newIndex-hotpic\" href=\"http://www.nipic.com/topic/show_27054_1.html\"><img src=\"http://icon.nipic.com/BannerPic/20181126/original/20181126100510_1.jpg\"/><span class=\"newIndex-textItem\">房地产</span><span class=\"none commercialIcon\">商用</span></a>, <a class=\"newIndex-hotpic\" href=\"http://www.nipic.com/topic/show_27233_1.html\"><img src=\"http://icon.nipic.com/BannerPic/20181126/original/20181126100531_1.jpg\"/><span class=\"newIndex-textItem\">2019年台历</span><span class=\"none commercialIcon\">商用</span></a>, <a class=\"newIndex-hotpic\" href=\"http://www.nipic.com/topic/show_27071_1.html\"><img src=\"http://icon.nipic.com/BannerPic/20181126/original/20181126100604_1.jpg\"/><span class=\"newIndex-textItem\">旅游</span><span class=\"none commercialIcon\">商用</span></a>, <a class=\"newIndex-hotpic\" href=\"http://www.huitu.com/topic-detail/3304.html\"><img src=\"http://icon.nipic.com/BannerPic/20181126/original/20181126100609_1.jpg\"/><span class=\"newIndex-textItem\">美女摄影图</span><span class=\"none commercialIcon\">商用</span></a>]\n",
      "4\n"
     ]
    }
   ],
   "source": [
    "html=requests.get(URL).text\n",
    "soup=BeautifulSoup(html,'lxml')\n",
    "img_ul=soup.find_all('a',{'class':'newIndex-hotpic'})\n",
    "print(img_ul)\n",
    "print(len(img_ul))"
   ]
  },
  {
   "cell_type": "code",
   "execution_count": 5,
   "metadata": {},
   "outputs": [],
   "source": [
    "import os\n",
    "\n",
    "os.makedirs('./img/',exist_ok=True)"
   ]
  },
  {
   "cell_type": "code",
   "execution_count": 6,
   "metadata": {},
   "outputs": [
    {
     "name": "stdout",
     "output_type": "stream",
     "text": [
      "[<img src=\"http://icon.nipic.com/BannerPic/20181126/original/20181126100510_1.jpg\"/>]\n",
      "Save 20181126100510_1.jpg\n",
      "[<img src=\"http://icon.nipic.com/BannerPic/20181126/original/20181126100531_1.jpg\"/>]\n",
      "Save 20181126100531_1.jpg\n",
      "[<img src=\"http://icon.nipic.com/BannerPic/20181126/original/20181126100604_1.jpg\"/>]\n",
      "Save 20181126100604_1.jpg\n",
      "[<img src=\"http://icon.nipic.com/BannerPic/20181126/original/20181126100609_1.jpg\"/>]\n",
      "Save 20181126100609_1.jpg\n"
     ]
    }
   ],
   "source": [
    "for ul in img_ul:\n",
    "    imgs=ul.find_all('img')\n",
    "    print(imgs)\n",
    "    for img in imgs:\n",
    "        url=img['src']\n",
    "        r=requests.get(url,stream=True)\n",
    "        image_name=url.split('/')[-1]\n",
    "        with open('./img/%s'%image_name,'wb') as f:\n",
    "            for chunk in r.iter_content(chunk_size=128):\n",
    "                f.write(chunk)\n",
    "        print('Save %s'%image_name)"
   ]
  },
  {
   "cell_type": "code",
   "execution_count": null,
   "metadata": {},
   "outputs": [],
   "source": []
  }
 ],
 "metadata": {
  "kernelspec": {
   "display_name": "Python 3",
   "language": "python",
   "name": "python3"
  },
  "language_info": {
   "codemirror_mode": {
    "name": "ipython",
    "version": 3
   },
   "file_extension": ".py",
   "mimetype": "text/x-python",
   "name": "python",
   "nbconvert_exporter": "python",
   "pygments_lexer": "ipython3",
   "version": "3.6.5"
  }
 },
 "nbformat": 4,
 "nbformat_minor": 2
}
