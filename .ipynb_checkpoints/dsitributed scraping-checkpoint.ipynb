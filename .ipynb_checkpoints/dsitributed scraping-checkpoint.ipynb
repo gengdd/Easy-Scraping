{
 "cells": [
  {
   "cell_type": "code",
   "execution_count": 1,
   "metadata": {},
   "outputs": [],
   "source": [
    "import multiprocessing as mp\n",
    "import time\n",
    "from urllib.request import urlopen,urljoin\n",
    "from bs4 import BeautifulSoup\n",
    "import re"
   ]
  },
  {
   "cell_type": "code",
   "execution_count": 2,
   "metadata": {},
   "outputs": [],
   "source": [
    "base_url=\"https://morvanzhou.github.io/\"\n",
    "\n",
    "if base_url!=\"http://127.0.0.1:4000/\":\n",
    "    restricted_crawl=True\n",
    "else:\n",
    "    restricted_crawl=False"
   ]
  },
  {
   "cell_type": "code",
   "execution_count": 3,
   "metadata": {},
   "outputs": [],
   "source": [
    "def crawl(url):\n",
    "    response=urlopen(url)\n",
    "    time.sleep(0.1)\n",
    "    return response.read().decode()"
   ]
  },
  {
   "cell_type": "code",
   "execution_count": 6,
   "metadata": {},
   "outputs": [],
   "source": [
    "def parse(html):\n",
    "    soup=BeautifulSoup(html,'lxml')\n",
    "    urls=soup.find_all('a',{'href': re.compile('^/.+?/$')})\n",
    "    title=soup.find('h1').get_text().strip()\n",
    "    page_urls=set([urljoin(base_url,url['href']) for url in urls])\n",
    "    url=soup.find('meta',{'property':'og:url'})['content']\n",
    "    return title,page_urls,url"
   ]
  },
  {
   "cell_type": "code",
   "execution_count": 7,
   "metadata": {
    "scrolled": true
   },
   "outputs": [
    {
     "name": "stdout",
     "output_type": "stream",
     "text": [
      "\n",
      "Distributed Crawling...\n",
      "\n",
      "Distributed Parsing...\n",
      "\n",
      "Analysing...\n",
      "1 教程 https://morvanzhou.github.io/\n",
      "\n",
      "Distributed Crawling...\n",
      "\n",
      "Distributed Parsing...\n",
      "\n",
      "Analysing...\n",
      "2 高级爬虫: 让 Selenium 控制你的浏览器帮你爬 https://morvanzhou.github.io/tutorials/data-manipulation/scraping/5-01-selenium/\n",
      "3 迁移学习 Transfer Learning https://morvanzhou.github.io/tutorials/machine-learning/ML-intro/2-9-transfer-learning/\n",
      "4 机器学习系列 https://morvanzhou.github.io/tutorials/machine-learning/\n",
      "5 Why? https://morvanzhou.github.io/tutorials/data-manipulation/scraping/1-00-why/\n",
      "6 高级爬虫: 高效无忧的 Scrapy 爬虫库 https://morvanzhou.github.io/tutorials/data-manipulation/scraping/5-02-scrapy/\n",
      "7 关于莫烦 https://morvanzhou.github.io/about/\n",
      "8 近期更新 https://morvanzhou.github.io/recent-posts/\n",
      "9 Keras 教程系列 https://morvanzhou.github.io/tutorials/machine-learning/keras/\n",
      "10 计算机视觉 教程系列 https://morvanzhou.github.io/tutorials/machine-learning/computer-vision/\n",
      "11 迁移学习 Transfer Learning https://morvanzhou.github.io/tutorials/machine-learning/tensorflow/5-16-transfer-learning/\n",
      "12 数据处理教程系列 https://morvanzhou.github.io/tutorials/data-manipulation/\n",
      "13 有趣的机器学习系列 https://morvanzhou.github.io/tutorials/machine-learning/ML-intro/\n",
      "14 Tensorflow 教程系列 https://morvanzhou.github.io/tutorials/machine-learning/tensorflow/\n",
      "15 Sklearn 通用机器学习 教程系列 https://morvanzhou.github.io/tutorials/machine-learning/sklearn/\n",
      "16 Pytorch 教程系列 https://morvanzhou.github.io/tutorials/machine-learning/torch/\n",
      "17 Git 版本管理 教程系列 https://morvanzhou.github.io/tutorials/others/git/\n",
      "18 其他教学系列 https://morvanzhou.github.io/tutorials/others/\n",
      "19 Python基础 教程系列 https://morvanzhou.github.io/tutorials/python-basic/\n",
      "20 Theano 教程系列 https://morvanzhou.github.io/tutorials/machine-learning/theano/\n",
      "21 Threading 多线程教程系列 https://morvanzhou.github.io/tutorials/python-basic/threading/\n",
      "22 Matplotlib 画图教程系列 https://morvanzhou.github.io/tutorials/data-manipulation/plt/\n",
      "23 基础教程系列 https://morvanzhou.github.io/tutorials/python-basic/basic/\n",
      "24 Tkinter GUI 教程系列 https://morvanzhou.github.io/tutorials/python-basic/tkinter/\n",
      "25 网页爬虫教程系列 https://morvanzhou.github.io/tutorials/data-manipulation/scraping/\n",
      "26 进化算法 Evolutionary Strategies 教程系列 https://morvanzhou.github.io/tutorials/machine-learning/evolutionary-algorithm/\n",
      "27 Linux 简易教学 https://morvanzhou.github.io/tutorials/others/linux-basic/\n",
      "28 推荐学习顺序 https://morvanzhou.github.io/learning-steps/\n",
      "29 强化学习 Reinforcement Learning 教程系列 https://morvanzhou.github.io/tutorials/machine-learning/reinforcement-learning/\n",
      "30 Numpy & Pandas 教程系列 https://morvanzhou.github.io/tutorials/data-manipulation/np-pd/\n",
      "31 multiprocessing 多进程教程系列 https://morvanzhou.github.io/tutorials/python-basic/multiprocessing/\n",
      "32 机器学习实践 https://morvanzhou.github.io/tutorials/machine-learning/ML-practice/\n",
      "33 说吧~ https://morvanzhou.github.io/discuss/\n",
      "34 为了更优秀 https://morvanzhou.github.io/support/\n",
      "Total time:35.4 s\n"
     ]
    }
   ],
   "source": [
    "unseen=set([base_url,])\n",
    "seen=set()\n",
    "\n",
    "count,t1=1,time.time()\n",
    "\n",
    "while len(unseen)!=0:\n",
    "    if restricted_crawl and len(seen)>20:\n",
    "        break\n",
    "    print('\\nDistributed Crawling...')\n",
    "    htmls=[crawl(url) for url in unseen]\n",
    "    \n",
    "    print('\\nDistributed Parsing...')\n",
    "    results=[parse(html) for html in htmls]\n",
    "    \n",
    "    print('\\nAnalysing...')\n",
    "    seen.update(unseen)\n",
    "    unseen.clear()\n",
    "    \n",
    "    for title,page_urls,url in results:\n",
    "        print(count,title,url)\n",
    "        count+=1\n",
    "        unseen.update(page_urls-seen)\n",
    "print('Total time:%.1f s'%(time.time()-t1))"
   ]
  },
  {
   "cell_type": "code",
   "execution_count": null,
   "metadata": {},
   "outputs": [],
   "source": [
    "unseen=set([base_url,])\n",
    "seen=set()\n",
    "\n",
    "pool=mp.Pool(4)\n",
    "count,t1=1,time.time()\n",
    "while len(unseen)!=0:\n",
    "    if restricted_crawl and len(seen)>20:\n",
    "        break\n",
    "    print('\\nDistributed Crawing...')\n",
    "    crawl_jobs=[pool.apply_async(crawl,args=(url,)) for url in  unseen]\n",
    "    htmls=[j.get() for j in crawl_jobs]\n",
    "    \n",
    "    print('\\nDistributed Parsing...')\n",
    "    parse_jobs=[pool.apply_async(parse,args=(html,)) for html in htmls]\n",
    "    results=[j.get() for j in parse_jobs]\n",
    "    \n",
    "    print('\\nAnalysing...')\n",
    "    seen.update(unseen)\n",
    "    unseen.clear()\n",
    "    \n",
    "    for title,page_urls,url in results:\n",
    "        print(count,title,url)\n",
    "        count+=1\n",
    "        unseen.update(page_urls-seen)\n",
    "print('Total time:%.1f s'%(time.time()-t1))"
   ]
  },
  {
   "cell_type": "code",
   "execution_count": null,
   "metadata": {},
   "outputs": [],
   "source": [
    "unseen = set([base_url,])\n",
    "seen = set()\n",
    "\n",
    "pool = mp.Pool(4)                       \n",
    "count, t1 = 1, time.time()\n",
    "while len(unseen) != 0:                 # still get some url to visit\n",
    "    if restricted_crawl and len(seen) > 20:\n",
    "            break\n",
    "    print('\\nDistributed Crawling...')\n",
    "    crawl_jobs = [pool.apply_async(crawl, args=(url,)) for url in unseen]\n",
    "    htmls = [j.get() for j in crawl_jobs]                                       # request connection\n",
    "\n",
    "    print('\\nDistributed Parsing...')\n",
    "    parse_jobs = [pool.apply_async(parse, args=(html,)) for html in htmls]\n",
    "    results = [j.get() for j in parse_jobs]                                     # parse html\n",
    "\n",
    "    print('\\nAnalysing...')\n",
    "    seen.update(unseen)         # seen the crawled\n",
    "    unseen.clear()              # nothing unseen\n",
    "\n",
    "    for title, page_urls, url in results:\n",
    "        print(count, title, url)\n",
    "        count += 1\n",
    "        unseen.update(page_urls - seen)     # get new url to crawl\n",
    "print('Total time: %.1f s' % (time.time()-t1, ))    # 16 s !!!"
   ]
  }
 ],
 "metadata": {
  "kernelspec": {
   "display_name": "Python 3",
   "language": "python",
   "name": "python3"
  },
  "language_info": {
   "codemirror_mode": {
    "name": "ipython",
    "version": 3
   },
   "file_extension": ".py",
   "mimetype": "text/x-python",
   "name": "python",
   "nbconvert_exporter": "python",
   "pygments_lexer": "ipython3",
   "version": "3.6.5"
  }
 },
 "nbformat": 4,
 "nbformat_minor": 2
}
