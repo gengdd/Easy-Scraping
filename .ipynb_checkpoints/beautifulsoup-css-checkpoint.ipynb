{
 "cells": [
  {
   "cell_type": "code",
   "execution_count": 1,
   "metadata": {},
   "outputs": [],
   "source": [
    "from bs4 import BeautifulSoup\n",
    "from urllib.request import urlopen"
   ]
  },
  {
   "cell_type": "code",
   "execution_count": 4,
   "metadata": {},
   "outputs": [],
   "source": [
    "html=urlopen('https://morvanzhou.github.io/static/scraping/list.html').read().decode('utf-8')"
   ]
  },
  {
   "cell_type": "code",
   "execution_count": 5,
   "metadata": {},
   "outputs": [
    {
     "data": {
      "text/plain": [
       "<!DOCTYPE html>\n",
       "<html lang=\"cn\">\n",
       "<head>\n",
       "<meta charset=\"utf-8\"/>\n",
       "<title>爬虫练习 列表 class | 莫烦 Python</title>\n",
       "<style>\n",
       "\t.jan {\n",
       "\t\tbackground-color: yellow;\n",
       "\t}\n",
       "\t.feb {\n",
       "\t\tfont-size: 25px;\n",
       "\t}\n",
       "\t.month {\n",
       "\t\tcolor: red;\n",
       "\t}\n",
       "\t</style>\n",
       "</head>\n",
       "<body>\n",
       "<h1>列表 爬虫练习</h1>\n",
       "<p>这是一个在 <a href=\"https://morvanzhou.github.io/\">莫烦 Python</a> 的 <a href=\"https://morvanzhou.github.io/tutorials/data-manipulation/scraping/\">爬虫教程</a>\n",
       "\t里无敌简单的网页, 所有的 code 让你一目了然, 清晰无比.</p>\n",
       "<ul>\n",
       "<li class=\"month\">一月</li>\n",
       "<ul class=\"jan\">\n",
       "<li>一月一号</li>\n",
       "<li>一月二号</li>\n",
       "<li>一月三号</li>\n",
       "</ul>\n",
       "<li class=\"feb month\">二月</li>\n",
       "<li class=\"month\">三月</li>\n",
       "<li class=\"month\">四月</li>\n",
       "<li class=\"month\">五月</li>\n",
       "</ul>\n",
       "</body>\n",
       "</html>"
      ]
     },
     "execution_count": 5,
     "metadata": {},
     "output_type": "execute_result"
    }
   ],
   "source": [
    "soup=BeautifulSoup(html,features='lxml')\n",
    "soup"
   ]
  },
  {
   "cell_type": "code",
   "execution_count": 8,
   "metadata": {},
   "outputs": [
    {
     "name": "stdout",
     "output_type": "stream",
     "text": [
      "一月\n",
      "二月\n",
      "三月\n",
      "四月\n",
      "五月\n"
     ]
    }
   ],
   "source": [
    "month=soup.find_all('li',{'class':'month'})\n",
    "for m in month:\n",
    "    print(m.get_text())\n",
    "#     print(m)"
   ]
  },
  {
   "cell_type": "code",
   "execution_count": 17,
   "metadata": {},
   "outputs": [
    {
     "name": "stdout",
     "output_type": "stream",
     "text": [
      "<ul class=\"jan\">\n",
      "<li>一月一号</li>\n",
      "<li>一月二号</li>\n",
      "<li>一月三号</li>\n",
      "</ul>\n",
      "7\n",
      "[<li>一月一号</li>, <li>一月二号</li>, <li>一月三号</li>]\n",
      "一月一号\n",
      "一月二号\n",
      "一月三号\n"
     ]
    }
   ],
   "source": [
    "jan=soup.find('ul',{'class':'jan'})\n",
    "print(jan)\n",
    "print(len(jan))\n",
    "d_jan=jan.find_all('li')\n",
    "print(d_jan)\n",
    "for d in d_jan:\n",
    "    print(d.get_text())"
   ]
  },
  {
   "cell_type": "code",
   "execution_count": null,
   "metadata": {},
   "outputs": [],
   "source": []
  }
 ],
 "metadata": {
  "kernelspec": {
   "display_name": "Python 3",
   "language": "python",
   "name": "python3"
  },
  "language_info": {
   "codemirror_mode": {
    "name": "ipython",
    "version": 3
   },
   "file_extension": ".py",
   "mimetype": "text/x-python",
   "name": "python",
   "nbconvert_exporter": "python",
   "pygments_lexer": "ipython3",
   "version": "3.6.5"
  }
 },
 "nbformat": 4,
 "nbformat_minor": 2
}
