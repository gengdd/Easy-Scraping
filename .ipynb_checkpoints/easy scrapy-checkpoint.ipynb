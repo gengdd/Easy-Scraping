{
 "cells": [
  {
   "cell_type": "code",
   "execution_count": 1,
   "metadata": {},
   "outputs": [],
   "source": [
    "import scrapy"
   ]
  },
  {
   "cell_type": "code",
   "execution_count": 2,
   "metadata": {},
   "outputs": [],
   "source": [
    "import scrapy\n",
    "class MofanSpider(scrapy.Spider):\n",
    "    name='mofan'\n",
    "    start_url=['https://morvanzhou.github.io/']\n",
    "    \n",
    "    def parse(self,response):\n",
    "        yield {\n",
    "            'title': response.css('h1::text').extract_first(default='Missing').strip().replace('\"','\"'),\n",
    "            'url': response.url\n",
    "        }\n",
    "        \n",
    "        urls=response.css('a::attr(href)').re(r'^/.+?/$')\n",
    "        for url in urls:\n",
    "            yield response.follow(url,callback=self.parse)"
   ]
  },
  {
   "cell_type": "code",
   "execution_count": null,
   "metadata": {},
   "outputs": [],
   "source": []
  },
  {
   "cell_type": "code",
   "execution_count": null,
   "metadata": {},
   "outputs": [],
   "source": []
  }
 ],
 "metadata": {
  "kernelspec": {
   "display_name": "Python 3",
   "language": "python",
   "name": "python3"
  },
  "language_info": {
   "codemirror_mode": {
    "name": "ipython",
    "version": 3
   },
   "file_extension": ".py",
   "mimetype": "text/x-python",
   "name": "python",
   "nbconvert_exporter": "python",
   "pygments_lexer": "ipython3",
   "version": "3.6.5"
  }
 },
 "nbformat": 4,
 "nbformat_minor": 2
}
